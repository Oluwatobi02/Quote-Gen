{
 "cells": [
  {
   "cell_type": "code",
   "execution_count": 3,
   "id": "b63e6094-3352-4a34-b374-e29e75ebbfbf",
   "metadata": {},
   "outputs": [
    {
     "data": {
      "text/html": [
       "<div>\n",
       "<style scoped>\n",
       "    .dataframe tbody tr th:only-of-type {\n",
       "        vertical-align: middle;\n",
       "    }\n",
       "\n",
       "    .dataframe tbody tr th {\n",
       "        vertical-align: top;\n",
       "    }\n",
       "\n",
       "    .dataframe thead th {\n",
       "        text-align: right;\n",
       "    }\n",
       "</style>\n",
       "<table border=\"1\" class=\"dataframe\">\n",
       "  <thead>\n",
       "    <tr style=\"text-align: right;\">\n",
       "      <th></th>\n",
       "      <th>quote</th>\n",
       "      <th>author</th>\n",
       "      <th>sentiment_score</th>\n",
       "      <th>index</th>\n",
       "    </tr>\n",
       "  </thead>\n",
       "  <tbody>\n",
       "    <tr>\n",
       "      <th>0</th>\n",
       "      <td>Pain is inevitable, but misery is optional.</td>\n",
       "      <td>Tim Hansel</td>\n",
       "      <td>-0.8020</td>\n",
       "      <td>0</td>\n",
       "    </tr>\n",
       "    <tr>\n",
       "      <th>1</th>\n",
       "      <td>To avoid criticism, do nothing, say nothing, b...</td>\n",
       "      <td>Elbert Hubbard</td>\n",
       "      <td>-0.6249</td>\n",
       "      <td>1</td>\n",
       "    </tr>\n",
       "    <tr>\n",
       "      <th>2</th>\n",
       "      <td>Believe and act as if it were impossible to fail.</td>\n",
       "      <td>Charles Kettering</td>\n",
       "      <td>-0.5423</td>\n",
       "      <td>2</td>\n",
       "    </tr>\n",
       "    <tr>\n",
       "      <th>3</th>\n",
       "      <td>Never get out of the boat. Absolutely goddamn ...</td>\n",
       "      <td>Captain Willard</td>\n",
       "      <td>-0.5256</td>\n",
       "      <td>3</td>\n",
       "    </tr>\n",
       "    <tr>\n",
       "      <th>4</th>\n",
       "      <td>Nobody can make you feel inferior without your...</td>\n",
       "      <td>Eleanor Roosevelt</td>\n",
       "      <td>-0.5213</td>\n",
       "      <td>4</td>\n",
       "    </tr>\n",
       "  </tbody>\n",
       "</table>\n",
       "</div>"
      ],
      "text/plain": [
       "                                               quote             author  \\\n",
       "0        Pain is inevitable, but misery is optional.         Tim Hansel   \n",
       "1  To avoid criticism, do nothing, say nothing, b...     Elbert Hubbard   \n",
       "2  Believe and act as if it were impossible to fail.  Charles Kettering   \n",
       "3  Never get out of the boat. Absolutely goddamn ...    Captain Willard   \n",
       "4  Nobody can make you feel inferior without your...  Eleanor Roosevelt   \n",
       "\n",
       "   sentiment_score  index  \n",
       "0          -0.8020      0  \n",
       "1          -0.6249      1  \n",
       "2          -0.5423      2  \n",
       "3          -0.5256      3  \n",
       "4          -0.5213      4  "
      ]
     },
     "execution_count": 3,
     "metadata": {},
     "output_type": "execute_result"
    }
   ],
   "source": [
    "import pandas as pd\n",
    "import numpy as np\n",
    "from random import randrange\n",
    "from nltk.sentiment.vader import SentimentIntensityAnalyzer\n",
    "\n",
    "\n",
    "quotes = None\n",
    "\n",
    "def prepare_sentiment_quote_stash(quote_stash_path):\n",
    "    global quotes\n",
    "    #load the quote stash\n",
    "    quotes = pd.read_csv(quote_stash_path)\n",
    "    sid = SentimentIntensityAnalyzer()\n",
    "\n",
    "    all_compounds = []\n",
    "    for sentence in quotes['quote']:\n",
    "        ss = sid.polarity_scores(sentence)\n",
    "        for k in sorted(ss):\n",
    "            if k == 'compound':\n",
    "                all_compounds.append(ss[k])\n",
    "    quotes['sentiment_score'] = all_compounds\n",
    "    quotes= quotes.sort_values('sentiment_score')\n",
    "    quotes['index'] = [ix for ix in range(0, len(quotes))]\n",
    "    return quotes\n",
    "\n",
    "prepare_sentiment_quote_stash('quotes.csv')\n",
    "quotes.head()"
   ]
  },
  {
   "cell_type": "code",
   "execution_count": 10,
   "id": "15da9253-878a-4e13-85f3-2cc2dbce93ca",
   "metadata": {},
   "outputs": [],
   "source": [
    "max_index_value = np.max(quotes['index'].values)\n",
    "\n",
    "def gimme_a_quote(direction = None, current_index= None):\n",
    "    rand_index = randrange(max_index_value)\n",
    "    darker = None\n",
    "    brighter = None\n",
    "\n",
    "\n",
    "    if current_index is None:\n",
    "        brighter = rand_index\n",
    "    if direction == 'brighter':\n",
    "        brighter = current_index\n",
    "    else:\n",
    "        darker = current_index\n",
    "    if darker is not None:\n",
    "        current_index = rand_index\n",
    "        try:\n",
    "            current_index = int(darker)\n",
    "        except ValueError:\n",
    "            current_index = rand_index\n",
    "        if current_index > 0:\n",
    "            rand_index = randrange(0, current_index)\n",
    "            print('darker')\n",
    "        else:\n",
    "            rand_index= rand_index\n",
    "    elif brighter is not None:\n",
    "        try:\n",
    "            current_index = int(brighter)\n",
    "        except ValueError:\n",
    "            current_index = rand_index\n",
    "        if current_index < max_index_value -1:\n",
    "            rand_index = randrange(current_index, max_index_value)\n",
    "            print('brighter')\n",
    "        else:\n",
    "            rand_index = rand_index\n",
    "    else:\n",
    "        rand_index = rand_index\n",
    "    return (rand_index)\n"
   ]
  },
  {
   "cell_type": "code",
   "execution_count": 18,
   "id": "0d7c83ab-ca4a-4406-bfef-a35088e883a0",
   "metadata": {},
   "outputs": [
    {
     "name": "stdout",
     "output_type": "stream",
     "text": [
      "brighter\n"
     ]
    },
    {
     "data": {
      "text/plain": [
       "70"
      ]
     },
     "execution_count": 18,
     "metadata": {},
     "output_type": "execute_result"
    }
   ],
   "source": [
    "gimme_a_quote('brighter', 60)"
   ]
  },
  {
   "cell_type": "code",
   "execution_count": 17,
   "id": "035ad278-838e-4448-a51c-5a135a0f65df",
   "metadata": {},
   "outputs": [
    {
     "name": "stdout",
     "output_type": "stream",
     "text": [
      "brighter\n"
     ]
    },
    {
     "data": {
      "text/plain": [
       "67    You must be the change you wish to see in the ...\n",
       "Name: quote, dtype: object"
      ]
     },
     "execution_count": 17,
     "metadata": {},
     "output_type": "execute_result"
    }
   ],
   "source": [
    "quotes[quotes['index'] == gimme_a_quote('brighter', 50)].quote"
   ]
  },
  {
   "cell_type": "code",
   "execution_count": null,
   "id": "fb4e940c-1d54-428f-869b-6fa484812e4d",
   "metadata": {},
   "outputs": [],
   "source": []
  },
  {
   "cell_type": "code",
   "execution_count": null,
   "id": "ac422d4f-afe8-4b38-8e8c-8165f974572c",
   "metadata": {},
   "outputs": [],
   "source": []
  }
 ],
 "metadata": {
  "kernelspec": {
   "display_name": "Python 3 (ipykernel)",
   "language": "python",
   "name": "python3"
  },
  "language_info": {
   "codemirror_mode": {
    "name": "ipython",
    "version": 3
   },
   "file_extension": ".py",
   "mimetype": "text/x-python",
   "name": "python",
   "nbconvert_exporter": "python",
   "pygments_lexer": "ipython3",
   "version": "3.12.2"
  }
 },
 "nbformat": 4,
 "nbformat_minor": 5
}
